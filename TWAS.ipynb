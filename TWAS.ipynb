{
 "cells": [
  {
   "cell_type": "markdown",
   "id": "blessed-consensus",
   "metadata": {},
   "source": [
    "# Computation and plotting of TWAS results\n",
    "### Author: Mihail Mihov"
   ]
  },
  {
   "cell_type": "markdown",
   "id": "australian-christopher",
   "metadata": {},
   "source": [
    "#### ! Install FUSION TWAS and download the necessary 1000 Genomes LD reference data and GTEx whole blood eQTL data (weights) by following the instructions at 'http://gusevlab.org/projects/fusion/#installation' !"
   ]
  },
  {
   "cell_type": "code",
   "execution_count": null,
   "id": "critical-assumption",
   "metadata": {},
   "outputs": [],
   "source": [
    "#load the necessary libraries\n",
    "library(data.table)\n",
    "library(tidyverse)\n",
    "library(ggplot2)\n",
    "\n",
    "#read in the GWAS summary statistics generated prior to TWAS analysis\n",
    "sumstats=fread(\"~Your_directory/GWAS_all.sumstats\",data.table=F)\n",
    "#extract only the columns containing SNP names (SNP), first allele (A1), second allele (A2) and the Z scores (Z) \n",
    "sumstats=sumstats[,c(\"SNP\",\"A1\",\"A2\",\"Z\")]"
   ]
  },
  {
   "cell_type": "code",
   "execution_count": null,
   "id": "sacred-thunder",
   "metadata": {},
   "outputs": [],
   "source": [
    "#create a list of all GTEx weigths for each tissue\n",
    "tissues=list.files(\"~Your_directory/fusion_twas-master/WEIGHTS/WEIGHTS\", pattern=\"\\\\.pos\")"
   ]
  },
  {
   "cell_type": "code",
   "execution_count": null,
   "id": "composed-pregnancy",
   "metadata": {},
   "outputs": [],
   "source": [
    "#set output directory for the TWAS results. This will be the foulder containing results foulders for each tissue.\n",
    "out_dir=\"~Your_directory/TWAS/\"\n",
    "\n",
    "#loop over all tissues in the GTEx database\n",
    "for (tissue in tissues[1:length(tissues)]){\n",
    "    \n",
    "    message(paste0(\"----------------- TISSUE: \", tissue, \" (\", which(tissue==tissues), \"/\", length(tissues), \") ------------------\"))\n",
    "    ## then loop over all chromosomes\n",
    "    for (chr in 1:22){\n",
    "        message(paste0(\"----------------- CHROMOSOME: \", chr, \"/22 ------------------\"))\n",
    "        # construct the R command to be executed in terminal\n",
    "        command=paste0(\"Rscript ~Your_directory/fusion_twas-master/FUSION.assoc_test.R \",\n",
    "                   \"--sumstats \", sumstats, # this is the path to the sumstats file\n",
    "                   \" --weights ~Your_directory/fusion_twas-master/WEIGHTS/WEIGHTS/\", tissue, # here is the tissue from the loop\n",
    "                   \" --weights_dir ~Your_directory/fusion_twas-master/WEIGHTS/WEIGHTS/\", # static directory of weights\n",
    "                   \" --ref_ld_chr ~Your_directory/fusion_twas-master/LDREF/1000G.EUR.\", # static directory of LD data\n",
    "                   \" --chr \", chr, # here is the chromosome from the loop\n",
    "                   \" --out \",out_dir,\"TWAS_chr\", chr, \"_\", gsub(\"\\\\.pos\", \"\", tissue),\"_results.txt\")\n",
    "        # run the command\n",
    "       system(command)\n",
    "   }\n",
    "}"
   ]
  },
  {
   "cell_type": "code",
   "execution_count": null,
   "id": "frank-february",
   "metadata": {},
   "outputs": [],
   "source": [
    "#Combine the results from each tissue into one table\n",
    "result_files=list.files(\"~Your_directory/TWAS/\", pattern=\"_results.txt\", full.names =T, recursive=TRUE)\n",
    "results = lapply(result_files, fread, data.table=F)\n",
    "results_data = data.frame(rbindlist( results ))"
   ]
  },
  {
   "cell_type": "code",
   "execution_count": null,
   "id": "printable-mission",
   "metadata": {},
   "outputs": [],
   "source": [
    "#Add FDR column to be used for extra quality control\n",
    "results_data$FDR=p.adjust(results_data$TWAS.P, method=\"fdr\")\n",
    "\n",
    "#restrict the results to only coding genes to be ploted\n",
    "results_data$ENSG=gsub(\"\\\\..*\", \"\", gsub(\".*\\\\.ENSG\",\"ENSG\", results_data$FILE))\n",
    "\n",
    "genes=fread(\"~Your_dir/coding_genes.tsv\", data.table=F)\n",
    "colnames(genes)[1]=\"ID\"\n",
    "genes$ID=gsub(\"\\\\..*\", \"\", genes$ID)\n",
    "genes=genes$ID\n",
    "head(genes,1)\n",
    "\n",
    "plot=results_data[which(results_data$ENSG %in% genes),c(\"ID\",\"TWAS.Z\",\"FDR\",\"ENSG\")]\n",
    "\n",
    "#Restrict significant results to instances where FDR <= 0.01 and absolute Z-score > 5.5 (i.e. P-val < 10^(-8))\n",
    "plot=plot[which(complete.cases(plot$FDR)),]\n",
    "plot=plot[which(plot$FDR<=0.01),]\n",
    "plot$absZ=abs(plot$TWAS.Z)\n",
    "plot=plot[order(plot$absZ, decreasing=T),]\n",
    "plot=plot[!duplicated(plot$ID),]\n",
    "plot=plot[plot$absZ>5.5,]\n",
    "colnames(plot)[1]=\"PLOT\"\n",
    "\n",
    "#Plot the results using 'ggplot2'\n",
    "\n",
    "results_data=left_join(by=c(\"ENSG\",\"TWAS.Z\",\"FDR\"), results_data, plot)\n",
    "head(results_data)\n",
    "\n",
    "\n",
    "plot_results=results_data[order(results_data$CHR,results_data$P0 ), c(\"ID\",\"CHR\",\"P0\",\"TWAS.Z\",\"PLOT\")]\n",
    "plot_results=plot_results[!is.na(plot_results$TWAS.Z ),]\n",
    "plot_results$seq=1:nrow(plot_results)\n",
    "plot_results$basecolour=\"grey\"\n",
    "plot_results[(plot_results$CHR%%2 )==1,\"basecolour\"]=\"black\"\n",
    "plot_results$symbol=\"1\"\n",
    "plot_results[(plot_results$ TWAS.Z)>5.5,\"symbol\"]=\"25\"\n",
    "plot_results[(plot_results$ TWAS.Z)< -5.5,\"symbol\"]=\"26\"\n",
    "plot_results$symbol=factor(plot_results$symbol)\n",
    "plot_results$ID=as.character(plot_results$ID)\n",
    "\n",
    "labels = aggregate(plot_results$seq, by = list(plot_results$CHR),mean)\n",
    "labels$tick=labels$x\n",
    "labels$labels=unique(plot_results$CHR)\n",
    "\n",
    "options(repr.plot.width=8, repr.plot.height=4, repr.plot.res=240)\n",
    "\n",
    "ggplot(plot_results, aes(y=TWAS.Z, x=seq)) +\n",
    "geom_hline(yintercept = -5.5,colour=\"red\", linetype = \"longdash\")+\n",
    "geom_hline(yintercept = 5.5,colour=\"red\", linetype = \"longdash\")+\n",
    "#geom_point(aes(color =basecolour , fill=basecolour, size=abs(TWAS.Z), shape=factor(ifelse(TWAS.Z>0, 2, 6))))+\n",
    "geom_point(aes(color =basecolour , fill=basecolour, size=abs(TWAS.Z), shape=symbol))+\n",
    "\n",
    "scale_shape_manual(values=c(16, 24, 25))+ theme_classic() +\n",
    "scale_color_manual(values=c( \"gray33\",\"grey\"))+ scale_fill_manual(values=c( \"gray33\",\"grey\"))+\n",
    "scale_size_continuous(range = c(0,3), breaks=c(0,1,2,3,4,5,6,7,8,9)) +\n",
    "theme(legend.position = \"none\", axis.text.x=element_text(angle=45,hjust=1))+\n",
    "geom_hline(yintercept = 0, col=\"black\")+\n",
    "xlab(\"Chromosomes\") +ylab(\"Z-Score\")+\n",
    "scale_x_continuous(breaks = labels$tick, labels = labels$label, expand = c(0.01, 0))+\n",
    "ggrepel::geom_text_repel(aes(label=ifelse(abs(TWAS.Z)>5.5,as.character(PLOT),'')), size=3,angle=0,max.overlaps=40,nudge_x=1000,force=5)"
   ]
  }
 ],
 "metadata": {
  "kernelspec": {
   "display_name": "R",
   "language": "R",
   "name": "ir"
  },
  "language_info": {
   "codemirror_mode": "r",
   "file_extension": ".r",
   "mimetype": "text/x-r-source",
   "name": "R",
   "pygments_lexer": "r",
   "version": "4.2.2"
  }
 },
 "nbformat": 4,
 "nbformat_minor": 5
}
