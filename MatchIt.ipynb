{
 "cells": [
  {
   "cell_type": "markdown",
   "id": "swiss-weight",
   "metadata": {},
   "source": [
    "# RNASeq phenotypes sample matching using MatchIt\n",
    "#### Author: Mihail Mihov"
   ]
  },
  {
   "cell_type": "code",
   "execution_count": 1,
   "id": "suburban-genesis",
   "metadata": {},
   "outputs": [],
   "source": [
    "#Load necessary libraries\n",
    "library(data.table)\n",
    "library(broom)\n",
    "options(repr.matrix.max.cols = 2000)\n",
    "\n",
    "#Read the counts data\n",
    "counts=fread(\"~/Your_directory/data.txt\", data.table=FALSE)\n",
    "\n",
    "# fix column names in counts\n",
    "colnames(counts)=make.names(colnames(counts))\n",
    "\n",
    "# rownames is first column of counts i.e. the genes\n",
    "rownames(counts)=counts[,1]\n",
    "genes=counts[,1]\n",
    "counts=counts[,-1]\n",
    "\n",
    "# transform expresison values to integer as this is requried by DESeq2\n",
    "counts=apply(counts, c(1,2), as.integer)\n",
    "\n",
    "#read in the phenotypes\n",
    "phenotypes=fread(\"~/your_directory/Phenotype.txt\", data.table=FALSE)\n",
    "\n",
    "# fix Tobacco phenotype\n",
    "table(phenotypes$Tobacco)\n",
    "phenotypes[phenotypes$Tobacco==\"contrtol\", \"Tobacco\"]=\"control\"\n",
    "table(phenotypes$Tobacco)\n",
    "\n",
    "# use median BMI as imputation for missing BMI\n",
    "phenotypes[is.na(phenotypes$BMI), \"BMI\"]=median(phenotypes$BMI, na.rm=TRUE)\n",
    "\n",
    "# scale BMI and Age to have mean of 0 and sd of one\n",
    "phenotypes$BMI=scale(phenotypes$BMI)\n",
    "phenotypes$AGE=scale(phenotypes$AGE)\n",
    "\n",
    "# reduce phenotypes to samples which are present in count data\n",
    "phenotypes=phenotypes[!is.na(match(phenotypes$sample, colnames(counts))),]\n",
    "\n",
    "\n",
    "# reorder phenotypes to be in same order as counts\n",
    "phenotypes=phenotypes[match(colnames(counts), phenotypes$sample),]\n",
    "head(phenotypes)"
   ]
  },
  {
   "cell_type": "code",
   "execution_count": null,
   "id": "international-breathing",
   "metadata": {},
   "outputs": [],
   "source": [
    "#Set rownames as sample names (column 1) and delete it\n",
    "rownames(phenotypes)=phenotypes$sample\n",
    "phenotypes=phenotypes[,-1]\n",
    "head(phenotypes)"
   ]
  },
  {
   "cell_type": "code",
   "execution_count": null,
   "id": "cubic-artwork",
   "metadata": {},
   "outputs": [],
   "source": [
    "#Change parameter values to be in binary format of 0 an 1\n",
    "phenotypes[phenotypes$Tobacco==\"control\", \"Tobacco\"]=0\n",
    "phenotypes[phenotypes$Tobacco==\"smokes\", \"Tobacco\"]=1\n",
    "\n",
    "phenotypes[phenotypes$SEX==\"male\", \"SEX\"]=0\n",
    "phenotypes[phenotypes$SEX==\"female\", \"SEX\"]=1\n",
    "\n",
    "phenotypes[phenotypes$AGE_groups==\"early\", \"AGE_groups\"]=1\n",
    "phenotypes[phenotypes$AGE_groups==\"mid\", \"AGE_groups\"]=2\n",
    "phenotypes[phenotypes$AGE_groups==\"late\", \"AGE_groups\"]=3\n",
    "\n",
    "phenotypes[phenotypes$BMI_groups==\"no\", \"BMI_groups\"]=0\n",
    "phenotypes[phenotypes$BMI_groups==\"yes\", \"BMI_groups\"]=1\n",
    "\n",
    "#Transform all fields in numeric values\n",
    "phenotypes$Tobacco=as.numeric(phenotypes$Tobacco)\n",
    "phenotypes$SEX=as.numeric(phenotypes$SEX)\n",
    "phenotypes$AGE_groups=as.numeric(phenotypes$AGE_groups)\n",
    "phenotypes$BMI=as.numeric(phenotypes$BMI)\n",
    "phenotypes$AGE=as.numeric(phenotypes$AGE)"
   ]
  },
  {
   "cell_type": "code",
   "execution_count": null,
   "id": "civic-leone",
   "metadata": {},
   "outputs": [],
   "source": [
    "#Transform the variables to be used for matching in to leveled factors \n",
    "phenotypes$AGE_groups=as.factor(phenotypes$AGE_groups)\n",
    "phenotypes$SEX=as.factor(phenotypes$SEX)\n",
    "phenotypes$Tobacco=as.factor(phenotypes$Tobacco)\n",
    "phenotypes$BMI_groups=as.factor(phenotypes$BMI_groups)"
   ]
  },
  {
   "cell_type": "code",
   "execution_count": null,
   "id": "asian-recruitment",
   "metadata": {},
   "outputs": [],
   "source": [
    "#load the MatchIt package\n",
    "library(\"MatchIt\")\n",
    "\n",
    "#Make matching maternal smoking groups based on embryonal sex and age group\n",
    "m.out0 <- matchit(Tobacco ~ SEX+AGE_groups, data = phenotypes[,], method = \"nearest\", exact=c(\"SEX\",\"AGE_groups\"), distance=\"glm\", ration=1)\n",
    "\n",
    "#check the summary statistics\n",
    "summary(m.out0)\n",
    "\n",
    "#write the matched data in to a variable to be used in the next matching step\n",
    "p=match.data(m.out0)\n",
    "\n",
    "#Make matching embryonal sex groups based on maternal smoking and embryonal age group\n",
    "m.out1 <- matchit(SEX~Tobacco +AGE_groups, data = p[,1:7], method = \"nearest\", exact=c(\"Tobacco\",\"AGE_groups\"), distance=\"glm\", ration=1)\n",
    "\n",
    "#check the summary statistics\n",
    "summary(m.out1)\n",
    "\n",
    "#write the matched data in to a variable to be used in the next matching step\n",
    "p1=match.data(m.out1)\n",
    "\n",
    "#check the quality of the matching\n",
    "table(p1[,-c(1:3,7:10)])\n",
    "head(p1)"
   ]
  },
  {
   "cell_type": "code",
   "execution_count": null,
   "id": "younger-place",
   "metadata": {},
   "outputs": [],
   "source": [
    "#Write the matched data into a file to be used in later analyses\n",
    "write.table(p1, file=\"/Your_directory/pheno_matched_MatchIt.txt\", sep=\"\\t\", row.names=TRUE)"
   ]
  }
 ],
 "metadata": {
  "kernelspec": {
   "display_name": "R",
   "language": "R",
   "name": "ir"
  },
  "language_info": {
   "codemirror_mode": "r",
   "file_extension": ".r",
   "mimetype": "text/x-r-source",
   "name": "R",
   "pygments_lexer": "r",
   "version": "4.2.2"
  }
 },
 "nbformat": 4,
 "nbformat_minor": 5
}
