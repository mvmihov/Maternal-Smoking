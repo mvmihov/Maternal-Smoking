{
 "cells": [
  {
   "cell_type": "markdown",
   "id": "approximate-coaching",
   "metadata": {},
   "source": [
    "# Computation of GWAS summary statistics\n",
    "### Author: Mihail Mihov"
   ]
  },
  {
   "cell_type": "code",
   "execution_count": null,
   "id": "strange-think",
   "metadata": {},
   "outputs": [],
   "source": [
    "#Prepare phenotype and covariates files to be used in the GWAS\n",
    "library(data.table)\n",
    "\n",
    "# Read in the phenotypes data\n",
    "phenotypes <- fread(\"/home//mmihov/Projects/MS_TWAS_PheWAS_heritability/MS_Cox_PheWAS_Cor/data/V2/UoA_UKB_phenotypes_2021-19-11.txt\", data.table=F)\n",
    "\n",
    "# exclude individuals whith sex chromosome abnormalities\n",
    "filtered=which(!is.na(phenotypes$sex_aneu))\n",
    "\n",
    "nrow(phenotypes[filtered,])\n",
    "nrow(phenotypes[-filtered,])\n",
    "phenotypes=phenotypes[-filtered,]\n",
    "\n",
    "# exclude individuals which failed genotyping QC\n",
    "filtered=which(is.na(phenotypes$gen_exclude))\n",
    "\n",
    "nrow(phenotypes[-filtered,])\n",
    "nrow(phenotypes[filtered,])\n",
    "phenotypes=phenotypes[filtered,]\n",
    "\n",
    "# exclude samples which are not europeans genetically\n",
    "filtered=which(phenotypes$gen_ethnicity==1)\n",
    "\n",
    "nrow(phenotypes[-filtered,])\n",
    "nrow(phenotypes[filtered,])\n",
    "phenotypes=phenotypes[filtered,]\n",
    "\n",
    "# exclude samples whith missing Maternal smoking during pregnancy status\n",
    "filtered=which(phenotypes$maternal_smoking==\"missing\")\n",
    "\n",
    "nrow(phenotypes[filtered,])\n",
    "nrow(phenotypes[-filtered,])\n",
    "phenotypes=phenotypes[-filtered,]\n",
    "\n",
    "phenotypes$maternal_smoking=as.numeric(pheno1$maternal_smoking)\n",
    "phenotypes$education=as.numeric(pheno1$education)\n",
    "phenotypes$alcohol=as.numeric(pheno1$alcohol)\n",
    "phenotypes$lack_of_PA=as.numeric(pheno1$lack_of_PA)\n",
    "phenotypes$deprv_index=as.numeric(pheno1$deprv_index)\n",
    "phenotypes$smoking_status=as.numeric(pheno1$smoking_status)"
   ]
  },
  {
   "cell_type": "code",
   "execution_count": null,
   "id": "exact-cooking",
   "metadata": {},
   "outputs": [],
   "source": [
    "#Make phenotype variable containing FID and IID ID columns as required by regenie and a column for the trait we are testing\n",
    "pheno = phenotypes[,c(\"studiepersonid\",\"maternal_smoking\")]\n",
    "    colnames(pheno)[1]=\"FID\"\n",
    "    pheno$IID=pheno$FID\n",
    "\n",
    "#Make a covariate variable containing FID and IID ID columns as required by regenie and a columns containing the covariates to be used for adjusting\n",
    "cov = phenotypes[,c(\"studiepersonid\",\"sex,education,smoking_status,lack_of_PA, genoPC1,genoPC2,genoPC3,genoPC4,genoPC5,genoPC6,genoPC7,genoPC8,genoPC9,genoPC10,deprv_index,x_agebase,x_BMI\")]\n",
    "    colnames(pheno)[1]=\"FID\"\n",
    "    pheno$IID=pheno$FID\n",
    "\n",
    "#save them to files for later use"
   ]
  },
  {
   "cell_type": "markdown",
   "id": "micro-variation",
   "metadata": {},
   "source": [
    "#### Create a list of SNPs passing quality control to be used in the GWAS analysis"
   ]
  },
  {
   "cell_type": "code",
   "execution_count": null,
   "id": "sunset-ethiopia",
   "metadata": {},
   "outputs": [],
   "source": [
    "#Install Plink2\n",
    "#For more information visit 'https://www.cog-genomics.org/plink/2.0/general_usage'\n",
    "#Create a list of SNPs of minor allele frequency >= 0.01 ; minimum allele count = 100 and Hardy-Weinberg equilibrium exact test p-value > 10^(-15)\n",
    "plink2 \n",
    "--bgen ~Your_directory/Genotypes/Imputed/imputed_bgen_file_chr.bgen #chr is one of the 22 autosomes\n",
    "--sample ~Your_directory/Genotypes/Imputed/imputed_sample_file_chr.sample  #chr is one of the 22 autosomes\n",
    "--keep ~Your_directory/GWAS/Phenotypes/pheno.txt #the phenotype file created earlier\n",
    "--mac 100 \n",
    "--memory 200000 \n",
    "--threads 10 \n",
    "--maf 0.01 \n",
    "--geno 0.1 \n",
    "--hwe 1e-15 \n",
    "--mind 0.1  \n",
    "--write-snplist \n",
    "--out ~Your_directory/snps_pass"
   ]
  },
  {
   "cell_type": "markdown",
   "id": "opposite-consultation",
   "metadata": {},
   "source": [
    "#### Perform GWAS using regenie "
   ]
  },
  {
   "cell_type": "markdown",
   "id": "opening-hamilton",
   "metadata": {},
   "source": [
    "! more information on the use of regenie can be found on 'https://rgcgithub.github.io/regenie/options/' !"
   ]
  },
  {
   "cell_type": "code",
   "execution_count": null,
   "id": "canadian-surgery",
   "metadata": {},
   "outputs": [],
   "source": [
    "#Install regenie\n",
    "#Generate a set of genomic predictions (step 1) to be used for SNP association testing (step 2)\n",
    "/regenie \n",
    "--step 1   \n",
    "--bed ~Your_directory/Genotypes/gen_data_chromo1_22_v2.01  #whole genome sequencing data on the 22 autosomes\n",
    "--phenoFile ~Your_directory/GWAS/Phenotypes/pheno.txt   #the phenotype file created earlier\n",
    "--covarFile ~Your_directory/GWAS/Covariates/cov.txt  #the covariate file created earlier\n",
    "--catCovarList sex,education,smoking_status,lack_of_PA \n",
    "--covarColList genoPC1,genoPC2,genoPC3,genoPC4,genoPC5,genoPC6,genoPC7,genoPC8,genoPC9,genoPC10,deprv_index,x_agebase,x_BMI \n",
    "--extract ~Your_directory/snps_pass.snplist #the list of SNPs passing quality control created with Plink2\n",
    "--bt  \n",
    "--bsize 1000  \n",
    "--threads 10  \n",
    "--out ~Your_directory/fit_bin_out_all\n",
    "\n",
    "#Fitting the Firth logistic regression model for each of the 22 autosomes\n",
    "/regenie \n",
    "--step 2   \n",
    "--bgen ~Your_directory/Genotypes/Imputed/gen_imp_(chr).bgen   #Input genetic data file of imputed SNPs; chr is one of the 22 autosomes\n",
    "--ref-first   \n",
    "--sample ~Your_directory/Genotypes/Imputed/gen_imp_(chr).sample   #Sample file corresponding to input BGEN file; chr is one of the 22 autosomes\n",
    "--phenoFile ~Your_directory/GWAS/Phenotypes/pheno.txt   #the phenotype file created earlier\n",
    "--covarFile ~Your_directory/GWAS/Covariates/cov.txt   #the covariate file created earlier\n",
    "--catCovarList sex,education,smoking_status,lack_of_PA \n",
    "--covarColList genoPC1,genoPC2,genoPC3,genoPC4,genoPC5,genoPC6,genoPC7,genoPC8,genoPC9,genoPC10,deprv_index,x_agebase,x_BMI  \n",
    "--extract ~Your_directory/snps_pass.snplist #the list of SNPs passing quality control created with Plink2\n",
    "--bt   \n",
    "--firth   \n",
    "--approx   \n",
    "--pred ~Your_directory/fit_bin_out_all.list   #the predicitions file generated in step 1\n",
    "--bsize 400   \n",
    "--threads 10  \n",
    "--out ~Your_directory/Step2/fit_bin_out_all_step2_(chr) #output file; chr is one of the 22 autosomes\n",
    "\n",
    "#combine all output files into one summary statistics file"
   ]
  }
 ],
 "metadata": {
  "kernelspec": {
   "display_name": "R",
   "language": "R",
   "name": "ir"
  },
  "language_info": {
   "codemirror_mode": "r",
   "file_extension": ".r",
   "mimetype": "text/x-r-source",
   "name": "R",
   "pygments_lexer": "r",
   "version": "4.2.2"
  }
 },
 "nbformat": 4,
 "nbformat_minor": 5
}
