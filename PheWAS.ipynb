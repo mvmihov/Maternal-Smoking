{
 "cells": [
  {
   "cell_type": "markdown",
   "id": "together-herald",
   "metadata": {},
   "source": [
    "# Computing PheWAS for male and female non-smokers\n",
    "### Author: Mihail Mihov"
   ]
  },
  {
   "cell_type": "code",
   "execution_count": null,
   "id": "rough-rwanda",
   "metadata": {},
   "outputs": [],
   "source": [
    "# Load the necessary libraries\n",
    "library(data.table)\n",
    "library(broom)\n",
    "options(repr.matrix.max.cols = 1000)\n",
    "\n",
    "# Read in the phenotypes data\n",
    "phenotypes <- fread(\"/home//mmihov/Projects/MS_TWAS_PheWAS_heritability/MS_Cox_PheWAS_Cor/data/V2/UoA_UKB_phenotypes_2021-19-11.txt\", data.table=F)"
   ]
  },
  {
   "cell_type": "markdown",
   "id": "expensive-cover",
   "metadata": {},
   "source": [
    "### Data quality control "
   ]
  },
  {
   "cell_type": "code",
   "execution_count": null,
   "id": "better-manitoba",
   "metadata": {},
   "outputs": [],
   "source": [
    "# exclude individuals whith sex chromosome abnormalities\n",
    "filtered=which(!is.na(phenotypes\\$sex_aneu))\n",
    "\n",
    "nrow(phenotypes[filtered,])\n",
    "nrow(phenotypes[-filtered,])\n",
    "phenotypes=phenotypes[-filtered,]\n",
    "\n",
    "# exclude individuals which failed genotyping QC\n",
    "filtered=which(is.na(phenotypes\\$gen_exclude))\n",
    "\n",
    "nrow(phenotypes[-filtered,])\n",
    "nrow(phenotypes[filtered,])\n",
    "phenotypes=phenotypes[filtered,]\n",
    "\n",
    "# exclude samples which are not europeans genetically\n",
    "filtered=which(phenotypes\\$gen_ethnicity==1)\n",
    "\n",
    "nrow(phenotypes[-filtered,])\n",
    "nrow(phenotypes[filtered,])\n",
    "phenotypes=phenotypes[filtered,]\n",
    "\n",
    "# exclude samples whith missing Maternal smoking during pregnancy status\n",
    "filtered=which(phenotype\\s$maternal_smoking==\"missing\")\n",
    "\n",
    "nrow(phenotypes[filtered,])\n",
    "nrow(phenotypes[-filtered,])\n",
    "phenotypes=phenotypes[-filtered,]"
   ]
  },
  {
   "cell_type": "code",
   "execution_count": null,
   "id": "electoral-course",
   "metadata": {},
   "outputs": [],
   "source": [
    "# Scale all continuous variables to be used to have a mean = 0 and SD = 1 \n",
    "phenotypes\\$x_WBC=scale(phenotypes\\$x_WBC)\n",
    "phenotypes\\$x_RBC=scale(phenotypes\\$x_RBC)\n",
    "phenotypes\\$x_lymphocytes=scale(phenotypes\\$x_lymphocytes)\n",
    "phenotypes\\$x_platelet_count=scale(phenotypes\\$x_platelet_count)\n",
    "phenotypes\\$x_neutrophill=scale(phenotypes\\$x_neutrophill)\n",
    "phenotypes\\$x_Microalbumin=scale(phenotypes\\$x_Microalbumin)\n",
    "phenotypes\\$x_Creatinine=scale(phenotypes\\$x_Creatinine)\n",
    "phenotypes\\$x_APOA=scale(phenotypes\\$x_APOA)\n",
    "phenotypes\\$x_APOB=scale(phenotypes\\$x_APOB)\n",
    "phenotypes\\$x_Cholesterol=scale(phenotypes\\$x_Cholesterol)\n",
    "phenotypes\\$x_HDL=scale(phenotypes\\$x_HDL)\n",
    "phenotypes\\$x_LDL=scale(phenotypes\\$x_LDL)\n",
    "phenotypes\\$x_Triglycerides=scale(phenotypes\\$x_Triglycerides)\n",
    "phenotypes\\$x_CRP=scale(phenotypes\\$x_CRP)\n",
    "phenotypes\\$x_Cystatin=scale(phenotypes\\$x_Cystatin)\n",
    "phenotypes\\$x_HbA1c=scale(phenotypes\\$x_HbA1c)\n",
    "phenotypes\\$x_IGF=scale(phenotypes\\$x_IGF)\n",
    "phenotypes\\$x_VITD=scale(phenotypes\\$x_VITD)\n",
    "phenotypes\\$x_GGT=scale(phenotypes\\$x_GGT)\n",
    "phenotypes\\$x_ASP_AT=scale(phenotypes\\$x_ASP_AT)\n",
    "phenotypes\\$x_ALA_AT=scale(phenotypes\\$x_ALA_AT)\n",
    "phenotypes\\$x_AP=scale(phenotypes\\$x_AP)"
   ]
  },
  {
   "cell_type": "markdown",
   "id": "biblical-outdoors",
   "metadata": {},
   "source": [
    "### Compute the PheWAS summary statistics "
   ]
  },
  {
   "cell_type": "code",
   "execution_count": null,
   "id": "confirmed-footwear",
   "metadata": {},
   "outputs": [],
   "source": [
    "# Load the PheWAS package\n",
    "suppressMessages(library(PheWAS))\n",
    "\n",
    "# Read in the PheWAS incidents phenotype data\n",
    "phewas_phenotypes <- fread(\"/Your_directory/phenotypes_PhewasTable_incidents.txt\", data.table=F)\n",
    "\n",
    "# Compute PheWAS for non-smoking female participants\n",
    "results= phewas(phenotypes=phewas_phenotypes,\n",
    "genotypes=phenotypes[phenotypes\\$smoking_status==0&phenotypes\\$sex==0,c(\"studiepersonid\", \"maternal_smoking\")],\n",
    "covariates=phenotypes[,c(\"studiepersonid\", \"x_agebase\", \"alcohol\", \"x_BMI\", \"genoPC1\", \n",
    "                \"genoPC2\",\"genoPC3\", \"lack_of_PA\", \"x_RBC\", \"x_lymphocytes\", \"x_APOB\", \"x_Cystatin\", \"x_HbA1c\", \"x_IGF\", \"x_VITD\")],\n",
    "                 cores=4, additive.genotypes=T,min.records=500)\n",
    "\n",
    "# Compute Z scores\n",
    "results\\$Z=as.numeric(results\\$beta)/as.numeric(results\\$SE)\n",
    "\n",
    "# Write the summary statistics to a file\n",
    "write.table(results, file=\"/Your_directory/PHEWAS_nonsmokers_female.txt\", \n",
    "            sep=\"\\t\", row.names=F, quote=F)\n",
    "\n",
    "# Compute PheWAS for non-smoking female participants\n",
    "results= phewas(phenotypes=phewas_phenotypes,\n",
    "genotypes=phenotypes[phenotypes\\$smoking_status==0&phenotypes\\$sex==1,c(\"studiepersonid\", \"maternal_smoking\")],\n",
    "covariates=phenotypes[,c(\"studiepersonid\", \"x_agebase\", \"alcohol\", \"x_BMI\", \"genoPC1\", \n",
    "                \"genoPC2\",\"genoPC3\", \"lack_of_PA\", \"x_RBC\", \"x_lymphocytes\", \"x_APOB\", \"x_Cystatin\", \"x_HbA1c\", \"x_IGF\", \"x_VITD\")],\n",
    "                 cores=4, additive.genotypes=T,min.records=500)\n",
    "\n",
    "# Compute Z scores\n",
    "results\\$Z=as.numeric(results\\$beta)/as.numeric(results\\$SE)\n",
    "\n",
    "# Write the summary statistics to a file\n",
    "write.table(results, file=\"/Your_directory/PHEWAS_nonsmokers_male.txt\", \n",
    "            sep=\"\\t\", row.names=F, quote=F)"
   ]
  }
 ],
 "metadata": {
  "kernelspec": {
   "display_name": "R",
   "language": "R",
   "name": "ir"
  },
  "language_info": {
   "codemirror_mode": "r",
   "file_extension": ".r",
   "mimetype": "text/x-r-source",
   "name": "R",
   "pygments_lexer": "r",
   "version": "4.2.2"
  }
 },
 "nbformat": 4,
 "nbformat_minor": 5
}
